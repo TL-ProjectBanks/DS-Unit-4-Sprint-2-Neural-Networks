{
  "nbformat": 4,
  "nbformat_minor": 0,
  "metadata": {
    "kernelspec": {
      "display_name": "U4-S2-NNF (Python 3.7)",
      "language": "python",
      "name": "u4-s2-nnf"
    },
    "language_info": {
      "codemirror_mode": {
        "name": "ipython",
        "version": 3
      },
      "file_extension": ".py",
      "mimetype": "text/x-python",
      "name": "python",
      "nbconvert_exporter": "python",
      "pygments_lexer": "ipython3",
      "version": "3.7.3"
    },
    "colab": {
      "name": "LS_DS_422_Train_Lecture.ipynb",
      "provenance": [],
      "collapsed_sections": []
    },
    "accelerator": "GPU"
  },
  "cells": [
    {
      "cell_type": "markdown",
      "metadata": {
        "id": "aS4GZ37Wgcjr"
      },
      "source": [
        "Lambda School Data Science\n",
        "\n",
        "*Unit 4, Sprint 2, Module 2*\n",
        "\n",
        "---"
      ]
    },
    {
      "cell_type": "markdown",
      "metadata": {
        "toc-hr-collapsed": false,
        "id": "etFf1WLWgcjt"
      },
      "source": [
        "# Train (Prepare)\n",
        "__*Neural Network Foundations*__"
      ]
    },
    {
      "cell_type": "markdown",
      "metadata": {
        "id": "hXB80QOhgcju"
      },
      "source": [
        "## Learning Objectives\n",
        "* <a href=\"#p1\">Part 1</a>: Student should be able to explain the intuition behind backpropagation and gradient descent\n",
        "* <a href=\"#p2\">Part 2</a>: Student should be able to discuss the importance of batch size\n",
        "* <a href=\"#p3\">Part 3</a>: Student should be able to discuss the importance of learning rate"
      ]
    },
    {
      "cell_type": "markdown",
      "metadata": {
        "id": "8YuQu2lfgcju"
      },
      "source": [
        "## Summary of Yesterday\n",
        "\n",
        "Yesterday, we learned about some of the principal components of Neural Networks: Neurons, Weights, Activation Functions, and layers (input, output, & hidden). Today, we will reinforce our understanding of those components and introduce the mechanics of training a neural network. Feed-forward neural networks, such as multi-layer perceptrons (MLPs), are almost always trained using some variation of gradient descent where the gradient has been calculated by backpropagation.\n",
        "\n",
        "  <center><img src=\"https://raw.githubusercontent.com/LambdaSchool/DS-Unit-4-Sprint-2-Neural-Networks/main/module1-Intro-to-Neural-Networks/IMG_0167.jpeg\" width=400></center>\n",
        "\n",
        "- There are three kinds of layers: input, hidden, and output layers.\n",
        "- Each layer is made up of **n** individual neurons (aka activation units) which have a corresponding weight and bias.\n",
        "- Signal is passed from layer to layer through a network by:\n",
        " - Taking in inputs from the training data (or previous layer)\n",
        " - Multiplying each input by its corresponding weight (think arrow/connecting line)\n",
        " - Adding a bias to this weighted some of inputs and weights\n",
        " - Activating this weighted sum + bias by squishifying it with sigmoid or some other activation function. With a single perceptron with three inputs, calculating the output from the node is done like so:\n",
        "\\begin{align}\n",
        " y = sigmoid(\\sum(weight_{1}input_{1} + weight_{2}input_{2} + weight_{3}input_{3}) + bias)\n",
        "\\end{align}\n",
        " - this final activated value is the signal that gets passed onto the next layer of the network.\n",
        " "
      ]
    },
    {
      "cell_type": "markdown",
      "metadata": {
        "id": "bpi4R03rgcjv"
      },
      "source": [
        "## Training a Neural Network: *Formal Summary*\n",
        "\n",
        "0. Pick a network architecture\n",
        "   - No. of input units = No. of features\n",
        "   - No. of output units = Number of Classes (or expected targets)\n",
        "   - Select the number of hidden layers and number of neurons within each hidden layer\n",
        "1. Randomly initialize weights\n",
        "2. Implement forward propagation to get $h_{\\theta}(x^{(i)})$ for any $x^{(i)}$\n",
        "3. Implement code to compute a cost function $J(\\theta)$\n",
        "4. Implement backpropagation to compute partial derivatives $\\frac{\\delta}{\\delta\\theta_{jk}^{l}}{J(\\theta)}$\n",
        "5. Use gradient descent (or other advanced optimizer) with backpropagation to minimize $J(\\theta)$ as a function of parameters $\\theta\\$\n",
        "6. Repeat steps 2 - 5 until cost function is 'minimized' or some other stopping criteria is met. One pass over steps 2 - 5 is called an iteration or epoch."
      ]
    },
    {
      "cell_type": "markdown",
      "metadata": {
        "id": "aM4CK1IarId4",
        "toc-hr-collapsed": false
      },
      "source": [
        "# Backpropagation & Gradient Descent (Learn)\n",
        "<a id=\"p1\"></a>"
      ]
    },
    {
      "cell_type": "markdown",
      "metadata": {
        "toc-hr-collapsed": true,
        "id": "Ktm8Fmoagcjy"
      },
      "source": [
        "## Overview\n",
        "\n",
        "Backpropagation is short for [\"Backwards Propagation of errors\"](https://en.wikipedia.org/wiki/Backpropagation) and refers to a specific (rather calculus intensive) algorithm for how weights in a neural network are updated in reverse order at the end of each training epoch. Our purpose today is to demonstrate the backpropagation algorithm on a simple Feedforward Neural Network and in so doing help you get a grasp on the main process. If you want to understand all of the underlying calculus of how the gradients are calculated then you'll need to dive into it yourself, [3Blue1Brown's video is a great starting place](https://www.youtube.com/watch?v=tIeHLnjs5U8). I also highly recommend this Welch Labs series [Neural Networks Demystified](https://www.youtube.com/watch?v=bxe2T-V8XRs) if you want a rapid yet orderly walk through of the main intuitions and math behind the backpropagation algorithm. "
      ]
    },
    {
      "cell_type": "markdown",
      "metadata": {
        "id": "NXI2tEO9gcjy"
      },
      "source": [
        "### What is a Gradient?\n",
        "\n",
        "> In vector calculus, the gradient is a multi-variable generalization of the derivative. \n",
        "\n",
        "The gradients that we will deal with today will be vector representations of the derivative of the activation function. "
      ]
    },
    {
      "cell_type": "markdown",
      "metadata": {
        "toc-hr-collapsed": true,
        "id": "UZY66kiUgcjz"
      },
      "source": [
        "## Follow Along\n",
        "\n",
        "In this section, we will again a simple neural network using base TensorFlow. We'll focus on using a __Feed Forward Neural Network__ to predict test scores. "
      ]
    },
    {
      "cell_type": "markdown",
      "metadata": {
        "id": "Dm2HPETcrgy6",
        "toc-hr-collapsed": true
      },
      "source": [
        "<center><img src=\"https://github.com/LambdaSchool/DS-Unit-4-Sprint-2-Neural-Networks/blob/main/module1-Architect/IMG_0167.jpeg\"width=500></center>"
      ]
    },
    {
      "cell_type": "markdown",
      "metadata": {
        "id": "4d4tzpwO6B47"
      },
      "source": [
        "### Generate some Fake Data"
      ]
    },
    {
      "cell_type": "code",
      "metadata": {
        "id": "ERyVgeO_IWyV"
      },
      "source": [
        "import tensorflow as tf\n",
        "\n",
        "# Imagine that our data is drawn from a linear function\n",
        "# y = 3*hours_studying + 50\n",
        "\n",
        "TRUE_W = 3.5\n",
        "TRUE_b = 50.0\n",
        "NUM_EXAMPLES = 1000\n",
        "\n",
        "inputs = tf.random.normal(shape=[NUM_EXAMPLES])\n",
        "noise = tf.random.normal(shape=[NUM_EXAMPLES])\n",
        "\n",
        "# y_hat = x * w + b error/noise\n",
        "outputs = inputs * TRUE_W + TRUE_b + noise"
      ],
      "execution_count": 27,
      "outputs": []
    },
    {
      "cell_type": "markdown",
      "metadata": {
        "id": "bCJesGEUgcj4"
      },
      "source": [
        "### Loss Function\n",
        "Here we will use Mean Squared Error (MSE), because this is a regression problem. We are trying to predict a continuous target."
      ]
    },
    {
      "cell_type": "code",
      "metadata": {
        "id": "cDeUBW6k4Ri4"
      },
      "source": [
        "def loss(target_y, predicted_y):\n",
        "  \"MSE\"\n",
        "  return tf.reduce_mean(tf.square(target_y - predicted_y))"
      ],
      "execution_count": 29,
      "outputs": []
    },
    {
      "cell_type": "markdown",
      "metadata": {
        "id": "bgTf6vTS69Sw"
      },
      "source": [
        "### Neural Network Architecture\n",
        "Lets create a Neural Network class called \"Model\" to contain this functionality. Note: This is essentially a linear regression whose coefficients are trained by gradient descent. In practice, gradient descent works on much more complex function like the multi-layer networks we constructed yesterday."
      ]
    },
    {
      "cell_type": "code",
      "metadata": {
        "id": "RUI8VSR5zyBv"
      },
      "source": [
        "class Model(object):\n",
        "\n",
        "  def __init__(self):\n",
        "    self.W = tf.Variable(8.0)\n",
        "    self.b = tf.Variable(40.0)\n",
        "\n",
        "  def __call__(self, x):\n",
        "    # returns mx + b \n",
        "    return self.W * x + self.b\n",
        "\n",
        "model = Model()\n",
        "\n",
        "assert model(3.0).numpy() == 64.0"
      ],
      "execution_count": 31,
      "outputs": []
    },
    {
      "cell_type": "markdown",
      "metadata": {
        "id": "gbyT_FJ88IlK"
      },
      "source": [
        "### Initial Weights\n",
        "The initial weights in our model were arbitrary. In practice, weights are initialized randomly. "
      ]
    },
    {
      "cell_type": "code",
      "metadata": {
        "id": "IreIDe6P8H0H",
        "colab": {
          "base_uri": "https://localhost:8080/",
          "height": 282
        },
        "outputId": "7d8d53d6-b056-477a-ece9-6732702a6338"
      },
      "source": [
        "import matplotlib.pyplot as plt\n",
        "\n",
        "plt.scatter(inputs, outputs, c='b', label = \"data\")\n",
        "plt.scatter(inputs, model(inputs), c='r', label = \"model predictions\")\n",
        "plt.legend()\n",
        "plt.show();\n",
        "\n",
        "print('Current loss: %1.6f' % loss(model(inputs), outputs).numpy())"
      ],
      "execution_count": 35,
      "outputs": [
        {
          "output_type": "display_data",
          "data": {
            "image/png": "[encoded data removed]",
            "text/plain": [
              "<Figure size 432x288 with 1 Axes>"
            ]
          },
          "metadata": {
            "tags": [],
            "needs_background": "light"
          }
        },
        {
          "output_type": "stream",
          "text": [
            "Current loss: 117.710114\n"
          ],
          "name": "stdout"
        }
      ]
    },
    {
      "cell_type": "markdown",
      "metadata": {
        "id": "16Ujj6vNYQyX",
        "toc-hr-collapsed": true
      },
      "source": [
        "### Update Weights Based on Gradient\n",
        "\n",
        "> *Assigning blame for bad predictions and delivering justice - repeatedly and a little bit at a time*\n",
        "\n",
        "You should also know that with neural networks it is common to have gradients that are not convex (like what we saw when we applied gradient descent to linear regression). \n",
        "\n",
        "Due to the high complexity of these models and their nonlinearity, it is common for gradient descent to get stuck in a local minimum, but there are ways to combat this:\n",
        "\n",
        "1) Stochastic Gradient Descent\n",
        "\n",
        "2) More advanced Gradient-Descent-based \"Optimizers\" - See Stretch Goals on assignment."
      ]
    },
    {
      "cell_type": "code",
      "metadata": {
        "id": "ZgaGD6YlHoid"
      },
      "source": [
        " def train(model, inputs, outputs, learning_rate):\n",
        "  with tf.GradientTape() as t: \n",
        "     current_loss = loss(outputs, model(inputs)) # Single Value\n",
        "  dW, db = t.gradient(current_loss, [model.W, model.b]) #Backprop #How much does a particular obvs + W + b contribute to that loss\n",
        "  model.W.assign_sub(learning_rate * dW)\n",
        "  model.b.assign_sub(learning_rate * db)"
      ],
      "execution_count": 36,
      "outputs": []
    },
    {
      "cell_type": "markdown",
      "metadata": {
        "id": "i7b4iNfVb7dq"
      },
      "source": [
        ""
      ]
    },
    {
      "cell_type": "markdown",
      "metadata": {
        "id": "7iziWWURgck8"
      },
      "source": [
        "### Train the Network"
      ]
    },
    {
      "cell_type": "code",
      "metadata": {
        "id": "4zn_HgFuHhTr",
        "colab": {
          "base_uri": "https://localhost:8080/"
        },
        "outputId": "ee89f8a9-798e-428a-b6a9-08f5a364ffea"
      },
      "source": [
        "model = Model()\n",
        "\n",
        "# Store Some history of weights\n",
        "Ws, bs = [], []\n",
        "epochs = range(15)\n",
        "for epoch in epochs:\n",
        "  Ws.append(model.W.numpy())\n",
        "  bs.append(model.b.numpy())\n",
        "  current_loss = loss(outputs, model(inputs))\n",
        "\n",
        "  train(model, inputs, outputs, learning_rate=0.1)\n",
        "  print('Epoch %2d: W=%1.2f b=%1.2f loss=%2.5f' % (epoch, Ws[-1], bs[-1], current_loss))"
      ],
      "execution_count": 37,
      "outputs": [
        {
          "output_type": "stream",
          "text": [
            "Epoch  0: W=8.00 b=40.00 loss=117.71011\n",
            "Epoch  1: W=7.21 b=41.97 loss=76.87506\n",
            "Epoch  2: W=6.56 b=43.56 loss=50.34509\n",
            "Epoch  3: W=6.02 b=44.83 loss=33.10170\n",
            "Epoch  4: W=5.57 b=45.85 loss=21.88950\n",
            "Epoch  5: W=5.20 b=46.67 loss=14.59596\n",
            "Epoch  6: W=4.90 b=47.33 loss=9.84956\n",
            "Epoch  7: W=4.65 b=47.86 loss=6.75950\n",
            "Epoch  8: W=4.44 b=48.28 loss=4.74695\n",
            "Epoch  9: W=4.27 b=48.62 loss=3.43565\n",
            "Epoch 10: W=4.13 b=48.90 loss=2.58093\n",
            "Epoch 11: W=4.02 b=49.12 loss=2.02358\n",
            "Epoch 12: W=3.92 b=49.30 loss=1.66001\n",
            "Epoch 13: W=3.85 b=49.44 loss=1.42276\n",
            "Epoch 14: W=3.78 b=49.55 loss=1.26788\n"
          ],
          "name": "stdout"
        }
      ]
    },
    {
      "cell_type": "code",
      "metadata": {
        "id": "FSEt07wdHvi2",
        "colab": {
          "base_uri": "https://localhost:8080/",
          "height": 265
        },
        "outputId": "c41e84eb-fb5e-4ac3-c08b-e085ebf411f4"
      },
      "source": [
        "import matplotlib.pyplot as plt\n",
        "\n",
        "plt.plot(epochs, Ws, 'r', epochs, bs, 'b')\n",
        "plt.plot([TRUE_W] * len(epochs), 'r--',\n",
        "         [TRUE_b] * len(epochs), 'b--')\n",
        "plt.legend(['W', 'b', 'True W', 'True b'])\n",
        "plt.show()"
      ],
      "execution_count": 38,
      "outputs": [
        {
          "output_type": "display_data",
          "data": {
            "image/png": "[encoded data removed]",
            "text/plain": [
              "<Figure size 432x288 with 1 Axes>"
            ]
          },
          "metadata": {
            "tags": [],
            "needs_background": "light"
          }
        }
      ]
    },
    {
      "cell_type": "code",
      "metadata": {
        "id": "6pKDfpplbUxN",
        "colab": {
          "base_uri": "https://localhost:8080/",
          "height": 282
        },
        "outputId": "826bd434-5c5f-4071-88ca-729ddca6daa9"
      },
      "source": [
        "plt.scatter(inputs, outputs, c='b', label = \"data\")\n",
        "plt.scatter(inputs, model(inputs), c='r', label = \"model predictions\")\n",
        "plt.legend()\n",
        "plt.show()\n",
        "\n",
        "print('Current loss: %1.6f' % loss(model(inputs), outputs).numpy())"
      ],
      "execution_count": 40,
      "outputs": [
        {
          "output_type": "display_data",
          "data": {
            "image/png": "[encoded data removed]",
            "text/plain": [
              "<Figure size 432x288 with 1 Axes>"
            ]
          },
          "metadata": {
            "tags": [],
            "needs_background": "light"
          }
        },
        {
          "output_type": "stream",
          "text": [
            "Current loss: 1.166726\n"
          ],
          "name": "stdout"
        }
      ]
    },
    {
      "cell_type": "markdown",
      "metadata": {
        "id": "iKUVGoRxgck_"
      },
      "source": [
        "## Challenge\n",
        "\n",
        "In the module project, you will be asked to explain the logic of backpropagation and gradient descent."
      ]
    },
    {
      "cell_type": "markdown",
      "metadata": {
        "toc-hr-collapsed": true,
        "id": "vTqZg-6igclA"
      },
      "source": [
        "# Batch Size (Learn)"
      ]
    },
    {
      "cell_type": "markdown",
      "metadata": {
        "id": "0nrm-racgclA"
      },
      "source": [
        "## Overview\n",
        "\n",
        "The What - Stochastic Gradient Descent calculates an approximation of the gradient over the entire dataset by reviewing the predictions of a random sample. \n",
        "\n",
        "The Why - *Speed*. Calculating the gradient over the entire dataset is extremely expensive computationally. \n",
        "\n",
        "### Batch Size\n",
        "Batches are the number of observations our model is shown to make predictions and update the weights. Batches are selected randomly during epoch. All observations are considered when passing thru an epoch at some point.\n",
        "\n",
        "* Smaller Batch = Slower Run Time (but maybe more accurate results)\n",
        "* Default Batch = Balance between speed and accuracy\n",
        "* Large Batch = Very fast, but not nearly as accurate."
      ]
    },
    {
      "cell_type": "markdown",
      "metadata": {
        "id": "oNQ2ZCi7I4i6"
      },
      "source": [
        "### Baseline Model"
      ]
    },
    {
      "cell_type": "code",
      "metadata": {
        "id": "mZjW2lYVI9Q2",
        "colab": {
          "base_uri": "https://localhost:8080/"
        },
        "outputId": "7a5f9379-453d-459c-d5d0-5194a19070a8"
      },
      "source": [
        "from tensorflow.keras.datasets import mnist\n",
        "\n",
        "(X_train, y_train), (X_test, y_test) = mnist.load_data()\n",
        "\n",
        "max_pixal_value = 255\n",
        "X_train = X_train / max_pixal_value\n",
        "X_test = X_test / max_pixal_value\n",
        "\n",
        "X_train = X_train.reshape((60000, 784))\n",
        "X_test = X_test.reshape((10000, 784))"
      ],
      "execution_count": 9,
      "outputs": [
        {
          "output_type": "stream",
          "text": [
            "Downloading data from https://storage.googleapis.com/tensorflow/tf-keras-datasets/mnist.npz\n",
            "11493376/11490434 [==============================] - 1s 0us/step\n"
          ],
          "name": "stdout"
        }
      ]
    },
    {
      "cell_type": "code",
      "metadata": {
        "id": "o7x17kDKJSy5"
      },
      "source": [
        "# Our Model\n",
        "from tensorflow.keras import Sequential\n",
        "from tensorflow.keras.layers import Dense\n",
        "from tensorflow.keras.optimizers import SGD\n",
        "\n",
        "def create_model(lr=.01):\n",
        "\n",
        "  opt = SGD(learning_rate=lr)\n",
        "\n",
        "  model = Sequential([\n",
        "          Dense(1, activation='relu', input_dim=784),\n",
        "          Dense(32, activation='relu'),\n",
        "          Dense(10, activation='softmax')\n",
        "\n",
        "  ])\n",
        "\n",
        "  model.compile(optimizer=opt, loss='sparse_categorical_crossentropy',\n",
        "                       metrics=['accuracy'])\n",
        "  return model\n"
      ],
      "execution_count": 10,
      "outputs": []
    },
    {
      "cell_type": "code",
      "metadata": {
        "id": "W-HsAQ-9jgUM",
        "colab": {
          "base_uri": "https://localhost:8080/"
        },
        "outputId": "a26a7ff3-18f7-49a8-8af3-9f9bc29ee119"
      },
      "source": [
        "create_model().summary()"
      ],
      "execution_count": 11,
      "outputs": [
        {
          "output_type": "stream",
          "text": [
            "Model: \"sequential\"\n",
            "_________________________________________________________________\n",
            "Layer (type)                 Output Shape              Param #   \n",
            "=================================================================\n",
            "dense (Dense)                (None, 32)                25120     \n",
            "_________________________________________________________________\n",
            "dense_1 (Dense)              (None, 32)                1056      \n",
            "_________________________________________________________________\n",
            "dense_2 (Dense)              (None, 10)                330       \n",
            "=================================================================\n",
            "Total params: 26,506\n",
            "Trainable params: 26,506\n",
            "Non-trainable params: 0\n",
            "_________________________________________________________________\n"
          ],
          "name": "stdout"
        }
      ]
    },
    {
      "cell_type": "markdown",
      "metadata": {
        "id": "ZF7UE-KluPsX"
      },
      "source": [
        "## Follow Along\n",
        "Let's run a series of experiments for a default, small, and large batch size."
      ]
    },
    {
      "cell_type": "markdown",
      "metadata": {
        "id": "VhpDaVFRJl3U"
      },
      "source": [
        "### Default\n",
        "Batch Size is 32"
      ]
    },
    {
      "cell_type": "code",
      "metadata": {
        "id": "P-ChVGikgclD",
        "colab": {
          "base_uri": "https://localhost:8080/"
        },
        "outputId": "d5012af3-4ead-4612-c62d-e58fbf2312ae"
      },
      "source": [
        "model = create_model()\n",
        "\n",
        "bt_default = model.fit(X_train, y_train,\n",
        "                                epochs=25,\n",
        "                                batch_size=32,\n",
        "                                validation_data=(X_test,y_test))"
      ],
      "execution_count": 12,
      "outputs": [
        {
          "output_type": "stream",
          "text": [
            "Epoch 1/25\n",
            "1875/1875 [==============================] - 4s 2ms/step - loss: 0.7884 - accuracy: 0.7797 - val_loss: 0.3595 - val_accuracy: 0.9004\n",
            "Epoch 2/25\n",
            "1875/1875 [==============================] - 4s 2ms/step - loss: 0.3308 - accuracy: 0.9049 - val_loss: 0.2898 - val_accuracy: 0.9177\n",
            "Epoch 3/25\n",
            "1875/1875 [==============================] - 4s 2ms/step - loss: 0.2810 - accuracy: 0.9195 - val_loss: 0.2587 - val_accuracy: 0.9242\n",
            "Epoch 4/25\n",
            "1875/1875 [==============================] - 4s 2ms/step - loss: 0.2518 - accuracy: 0.9279 - val_loss: 0.2425 - val_accuracy: 0.9281\n",
            "Epoch 5/25\n",
            "1875/1875 [==============================] - 4s 2ms/step - loss: 0.2299 - accuracy: 0.9344 - val_loss: 0.2219 - val_accuracy: 0.9361\n",
            "Epoch 6/25\n",
            "1875/1875 [==============================] - 4s 2ms/step - loss: 0.2124 - accuracy: 0.9393 - val_loss: 0.2038 - val_accuracy: 0.9412\n",
            "Epoch 7/25\n",
            "1875/1875 [==============================] - 4s 2ms/step - loss: 0.1980 - accuracy: 0.9433 - val_loss: 0.1916 - val_accuracy: 0.9442\n",
            "Epoch 8/25\n",
            "1875/1875 [==============================] - 4s 2ms/step - loss: 0.1855 - accuracy: 0.9468 - val_loss: 0.1840 - val_accuracy: 0.9462\n",
            "Epoch 9/25\n",
            "1875/1875 [==============================] - 4s 2ms/step - loss: 0.1746 - accuracy: 0.9496 - val_loss: 0.1748 - val_accuracy: 0.9500\n",
            "Epoch 10/25\n",
            "1875/1875 [==============================] - 4s 2ms/step - loss: 0.1642 - accuracy: 0.9524 - val_loss: 0.1739 - val_accuracy: 0.9489\n",
            "Epoch 11/25\n",
            "1875/1875 [==============================] - 3s 2ms/step - loss: 0.1551 - accuracy: 0.9553 - val_loss: 0.1631 - val_accuracy: 0.9509\n",
            "Epoch 12/25\n",
            "1875/1875 [==============================] - 4s 2ms/step - loss: 0.1469 - accuracy: 0.9574 - val_loss: 0.1575 - val_accuracy: 0.9544\n",
            "Epoch 13/25\n",
            "1875/1875 [==============================] - 4s 2ms/step - loss: 0.1399 - accuracy: 0.9589 - val_loss: 0.1532 - val_accuracy: 0.9561\n",
            "Epoch 14/25\n",
            "1875/1875 [==============================] - 3s 2ms/step - loss: 0.1339 - accuracy: 0.9608 - val_loss: 0.1425 - val_accuracy: 0.9577\n",
            "Epoch 15/25\n",
            "1875/1875 [==============================] - 4s 2ms/step - loss: 0.1276 - accuracy: 0.9627 - val_loss: 0.1423 - val_accuracy: 0.9585\n",
            "Epoch 16/25\n",
            "1875/1875 [==============================] - 3s 2ms/step - loss: 0.1223 - accuracy: 0.9643 - val_loss: 0.1360 - val_accuracy: 0.9604\n",
            "Epoch 17/25\n",
            "1875/1875 [==============================] - 3s 2ms/step - loss: 0.1171 - accuracy: 0.9657 - val_loss: 0.1338 - val_accuracy: 0.9603\n",
            "Epoch 18/25\n",
            "1875/1875 [==============================] - 3s 2ms/step - loss: 0.1126 - accuracy: 0.9672 - val_loss: 0.1344 - val_accuracy: 0.9611\n",
            "Epoch 19/25\n",
            "1875/1875 [==============================] - 3s 2ms/step - loss: 0.1081 - accuracy: 0.9684 - val_loss: 0.1316 - val_accuracy: 0.9619\n",
            "Epoch 20/25\n",
            "1875/1875 [==============================] - 3s 2ms/step - loss: 0.1046 - accuracy: 0.9692 - val_loss: 0.1254 - val_accuracy: 0.9632\n",
            "Epoch 21/25\n",
            "1875/1875 [==============================] - 4s 2ms/step - loss: 0.1009 - accuracy: 0.9710 - val_loss: 0.1261 - val_accuracy: 0.9623\n",
            "Epoch 22/25\n",
            "1875/1875 [==============================] - 3s 2ms/step - loss: 0.0978 - accuracy: 0.9711 - val_loss: 0.1237 - val_accuracy: 0.9634\n",
            "Epoch 23/25\n",
            "1875/1875 [==============================] - 4s 2ms/step - loss: 0.0951 - accuracy: 0.9721 - val_loss: 0.1205 - val_accuracy: 0.9634\n",
            "Epoch 24/25\n",
            "1875/1875 [==============================] - 4s 2ms/step - loss: 0.0918 - accuracy: 0.9735 - val_loss: 0.1205 - val_accuracy: 0.9641\n",
            "Epoch 25/25\n",
            "1875/1875 [==============================] - 4s 2ms/step - loss: 0.0892 - accuracy: 0.9737 - val_loss: 0.1206 - val_accuracy: 0.9646\n"
          ],
          "name": "stdout"
        }
      ]
    },
    {
      "cell_type": "markdown",
      "metadata": {
        "id": "KvsbOFnDJuG0"
      },
      "source": [
        "### Small Batch Size\n",
        "Batch Size is 8"
      ]
    },
    {
      "cell_type": "code",
      "metadata": {
        "id": "diDzvb-UJ1je",
        "colab": {
          "base_uri": "https://localhost:8080/"
        },
        "outputId": "caf5ead4-ece1-4f30-e357-6fa0753e0689"
      },
      "source": [
        "bt_small = create_model().fit(X_train, y_train,\n",
        "                                epochs=25,\n",
        "                                batch_size=8,\n",
        "                                validation_data=(X_test,y_test)\n",
        ")"
      ],
      "execution_count": 13,
      "outputs": [
        {
          "output_type": "stream",
          "text": [
            "Epoch 1/25\n",
            "7500/7500 [==============================] - 14s 2ms/step - loss: 0.4218 - accuracy: 0.8780 - val_loss: 0.2306 - val_accuracy: 0.9298\n",
            "Epoch 2/25\n",
            "7500/7500 [==============================] - 13s 2ms/step - loss: 0.2149 - accuracy: 0.9369 - val_loss: 0.1771 - val_accuracy: 0.9440\n",
            "Epoch 3/25\n",
            "7500/7500 [==============================] - 13s 2ms/step - loss: 0.1684 - accuracy: 0.9499 - val_loss: 0.1466 - val_accuracy: 0.9525\n",
            "Epoch 4/25\n",
            "7500/7500 [==============================] - 13s 2ms/step - loss: 0.1425 - accuracy: 0.9571 - val_loss: 0.1450 - val_accuracy: 0.9539\n",
            "Epoch 5/25\n",
            "7500/7500 [==============================] - 13s 2ms/step - loss: 0.1231 - accuracy: 0.9626 - val_loss: 0.1264 - val_accuracy: 0.9586\n",
            "Epoch 6/25\n",
            "7500/7500 [==============================] - 13s 2ms/step - loss: 0.1096 - accuracy: 0.9667 - val_loss: 0.1289 - val_accuracy: 0.9616\n",
            "Epoch 7/25\n",
            "7500/7500 [==============================] - 13s 2ms/step - loss: 0.1006 - accuracy: 0.9698 - val_loss: 0.1093 - val_accuracy: 0.9673\n",
            "Epoch 8/25\n",
            "7500/7500 [==============================] - 13s 2ms/step - loss: 0.0918 - accuracy: 0.9718 - val_loss: 0.1083 - val_accuracy: 0.9676\n",
            "Epoch 9/25\n",
            "7500/7500 [==============================] - 13s 2ms/step - loss: 0.0846 - accuracy: 0.9747 - val_loss: 0.1015 - val_accuracy: 0.9679\n",
            "Epoch 10/25\n",
            "7500/7500 [==============================] - 13s 2ms/step - loss: 0.0787 - accuracy: 0.9759 - val_loss: 0.1011 - val_accuracy: 0.9690\n",
            "Epoch 11/25\n",
            "7500/7500 [==============================] - 13s 2ms/step - loss: 0.0743 - accuracy: 0.9769 - val_loss: 0.1103 - val_accuracy: 0.9661\n",
            "Epoch 12/25\n",
            "7500/7500 [==============================] - 13s 2ms/step - loss: 0.0701 - accuracy: 0.9782 - val_loss: 0.1130 - val_accuracy: 0.9650\n",
            "Epoch 13/25\n",
            "7500/7500 [==============================] - 13s 2ms/step - loss: 0.0652 - accuracy: 0.9801 - val_loss: 0.1039 - val_accuracy: 0.9698\n",
            "Epoch 14/25\n",
            "7500/7500 [==============================] - 13s 2ms/step - loss: 0.0621 - accuracy: 0.9811 - val_loss: 0.1050 - val_accuracy: 0.9686\n",
            "Epoch 15/25\n",
            "7500/7500 [==============================] - 13s 2ms/step - loss: 0.0591 - accuracy: 0.9814 - val_loss: 0.1101 - val_accuracy: 0.9680\n",
            "Epoch 16/25\n",
            "7500/7500 [==============================] - 13s 2ms/step - loss: 0.0557 - accuracy: 0.9826 - val_loss: 0.1062 - val_accuracy: 0.9696\n",
            "Epoch 17/25\n",
            "7500/7500 [==============================] - 13s 2ms/step - loss: 0.0535 - accuracy: 0.9833 - val_loss: 0.1087 - val_accuracy: 0.9680\n",
            "Epoch 18/25\n",
            "7500/7500 [==============================] - 13s 2ms/step - loss: 0.0506 - accuracy: 0.9844 - val_loss: 0.1076 - val_accuracy: 0.9690\n",
            "Epoch 19/25\n",
            "7500/7500 [==============================] - 13s 2ms/step - loss: 0.0496 - accuracy: 0.9845 - val_loss: 0.1118 - val_accuracy: 0.9692\n",
            "Epoch 20/25\n",
            "7500/7500 [==============================] - 14s 2ms/step - loss: 0.0457 - accuracy: 0.9853 - val_loss: 0.1164 - val_accuracy: 0.9673\n",
            "Epoch 21/25\n",
            "7500/7500 [==============================] - 13s 2ms/step - loss: 0.0439 - accuracy: 0.9860 - val_loss: 0.1129 - val_accuracy: 0.9697\n",
            "Epoch 22/25\n",
            "7500/7500 [==============================] - 13s 2ms/step - loss: 0.0428 - accuracy: 0.9863 - val_loss: 0.1470 - val_accuracy: 0.9576\n",
            "Epoch 23/25\n",
            "7500/7500 [==============================] - 13s 2ms/step - loss: 0.0406 - accuracy: 0.9867 - val_loss: 0.1164 - val_accuracy: 0.9703\n",
            "Epoch 24/25\n",
            "7500/7500 [==============================] - 13s 2ms/step - loss: 0.0382 - accuracy: 0.9883 - val_loss: 0.1087 - val_accuracy: 0.9717\n",
            "Epoch 25/25\n",
            "7500/7500 [==============================] - 13s 2ms/step - loss: 0.0368 - accuracy: 0.9886 - val_loss: 0.1125 - val_accuracy: 0.9687\n"
          ],
          "name": "stdout"
        }
      ]
    },
    {
      "cell_type": "markdown",
      "metadata": {
        "id": "_iPvvvt5J2Xl"
      },
      "source": [
        "### Large Batch Size\n",
        "Batch Size is 512"
      ]
    },
    {
      "cell_type": "code",
      "metadata": {
        "id": "7h8Z5293KABT",
        "colab": {
          "base_uri": "https://localhost:8080/"
        },
        "outputId": "4eb4ea99-a5c3-4451-f61c-a71ea4d65042"
      },
      "source": [
        "bt_large = create_model().fit(X_train, y_train,\n",
        "                                epochs=25,\n",
        "                                batch_size=512,\n",
        "                                validation_data=(X_test,y_test)\n",
        ")"
      ],
      "execution_count": 14,
      "outputs": [
        {
          "output_type": "stream",
          "text": [
            "Epoch 1/25\n",
            "118/118 [==============================] - 0s 4ms/step - loss: 2.1871 - accuracy: 0.2381 - val_loss: 2.0323 - val_accuracy: 0.3876\n",
            "Epoch 2/25\n",
            "118/118 [==============================] - 0s 3ms/step - loss: 1.8535 - accuracy: 0.4934 - val_loss: 1.6248 - val_accuracy: 0.5918\n",
            "Epoch 3/25\n",
            "118/118 [==============================] - 0s 3ms/step - loss: 1.4144 - accuracy: 0.6444 - val_loss: 1.1777 - val_accuracy: 0.7041\n",
            "Epoch 4/25\n",
            "118/118 [==============================] - 0s 3ms/step - loss: 1.0384 - accuracy: 0.7507 - val_loss: 0.8741 - val_accuracy: 0.7952\n",
            "Epoch 5/25\n",
            "118/118 [==============================] - 0s 3ms/step - loss: 0.8028 - accuracy: 0.8017 - val_loss: 0.6964 - val_accuracy: 0.8267\n",
            "Epoch 6/25\n",
            "118/118 [==============================] - 0s 3ms/step - loss: 0.6642 - accuracy: 0.8285 - val_loss: 0.5936 - val_accuracy: 0.8433\n",
            "Epoch 7/25\n",
            "118/118 [==============================] - 0s 3ms/step - loss: 0.5809 - accuracy: 0.8453 - val_loss: 0.5295 - val_accuracy: 0.8564\n",
            "Epoch 8/25\n",
            "118/118 [==============================] - 0s 3ms/step - loss: 0.5265 - accuracy: 0.8560 - val_loss: 0.4872 - val_accuracy: 0.8659\n",
            "Epoch 9/25\n",
            "118/118 [==============================] - 0s 3ms/step - loss: 0.4882 - accuracy: 0.8641 - val_loss: 0.4565 - val_accuracy: 0.8719\n",
            "Epoch 10/25\n",
            "118/118 [==============================] - 0s 3ms/step - loss: 0.4599 - accuracy: 0.8700 - val_loss: 0.4322 - val_accuracy: 0.8778\n",
            "Epoch 11/25\n",
            "118/118 [==============================] - 0s 3ms/step - loss: 0.4377 - accuracy: 0.8755 - val_loss: 0.4119 - val_accuracy: 0.8824\n",
            "Epoch 12/25\n",
            "118/118 [==============================] - 0s 3ms/step - loss: 0.4197 - accuracy: 0.8798 - val_loss: 0.3973 - val_accuracy: 0.8852\n",
            "Epoch 13/25\n",
            "118/118 [==============================] - 0s 3ms/step - loss: 0.4050 - accuracy: 0.8837 - val_loss: 0.3850 - val_accuracy: 0.8886\n",
            "Epoch 14/25\n",
            "118/118 [==============================] - 0s 3ms/step - loss: 0.3922 - accuracy: 0.8865 - val_loss: 0.3741 - val_accuracy: 0.8901\n",
            "Epoch 15/25\n",
            "118/118 [==============================] - 0s 3ms/step - loss: 0.3815 - accuracy: 0.8902 - val_loss: 0.3648 - val_accuracy: 0.8932\n",
            "Epoch 16/25\n",
            "118/118 [==============================] - 0s 3ms/step - loss: 0.3720 - accuracy: 0.8923 - val_loss: 0.3548 - val_accuracy: 0.8952\n",
            "Epoch 17/25\n",
            "118/118 [==============================] - 0s 3ms/step - loss: 0.3634 - accuracy: 0.8947 - val_loss: 0.3478 - val_accuracy: 0.8983\n",
            "Epoch 18/25\n",
            "118/118 [==============================] - 0s 3ms/step - loss: 0.3557 - accuracy: 0.8965 - val_loss: 0.3406 - val_accuracy: 0.8995\n",
            "Epoch 19/25\n",
            "118/118 [==============================] - 0s 3ms/step - loss: 0.3486 - accuracy: 0.8989 - val_loss: 0.3348 - val_accuracy: 0.9022\n",
            "Epoch 20/25\n",
            "118/118 [==============================] - 0s 3ms/step - loss: 0.3423 - accuracy: 0.9006 - val_loss: 0.3282 - val_accuracy: 0.9049\n",
            "Epoch 21/25\n",
            "118/118 [==============================] - 0s 3ms/step - loss: 0.3363 - accuracy: 0.9022 - val_loss: 0.3235 - val_accuracy: 0.9055\n",
            "Epoch 22/25\n",
            "118/118 [==============================] - 0s 3ms/step - loss: 0.3308 - accuracy: 0.9036 - val_loss: 0.3190 - val_accuracy: 0.9071\n",
            "Epoch 23/25\n",
            "118/118 [==============================] - 0s 3ms/step - loss: 0.3257 - accuracy: 0.9053 - val_loss: 0.3126 - val_accuracy: 0.9088\n",
            "Epoch 24/25\n",
            "118/118 [==============================] - 0s 3ms/step - loss: 0.3209 - accuracy: 0.9067 - val_loss: 0.3086 - val_accuracy: 0.9096\n",
            "Epoch 25/25\n",
            "118/118 [==============================] - 0s 3ms/step - loss: 0.3163 - accuracy: 0.9080 - val_loss: 0.3035 - val_accuracy: 0.9112\n"
          ],
          "name": "stdout"
        }
      ]
    },
    {
      "cell_type": "markdown",
      "metadata": {
        "id": "B0ujUz6BKUGz"
      },
      "source": [
        "### Visualization of Results"
      ]
    },
    {
      "cell_type": "code",
      "metadata": {
        "id": "o-5DOZNMKYt-",
        "colab": {
          "base_uri": "https://localhost:8080/",
          "height": 203
        },
        "outputId": "05813451-6c69-4ac5-e28d-166dcdd1dd5b"
      },
      "source": [
        "import seaborn as sns\n",
        "import pandas as pd\n",
        "\n",
        "batch_sizes = []\n",
        "\n",
        "for exp, result in zip([bt_default, bt_small, bt_large], [\"32_\", \"8_\", \"512_\"]):\n",
        "\n",
        "  df = pd.DataFrame.from_dict(exp.history)\n",
        "  df['epoch'] = df.index.values\n",
        "  df['Batch Size'] = result\n",
        "\n",
        "  batch_sizes.append(df)\n",
        "\n",
        "df = pd.concat(batch_sizes)\n",
        "df['Batch Size'] = df['Batch Size'].astype('str')\n",
        "df.head()"
      ],
      "execution_count": 15,
      "outputs": [
        {
          "output_type": "execute_result",
          "data": {
            "text/html": [
              "<div>\n",
              "<style scoped>\n",
              "    .dataframe tbody tr th:only-of-type {\n",
              "        vertical-align: middle;\n",
              "    }\n",
              "\n",
              "    .dataframe tbody tr th {\n",
              "        vertical-align: top;\n",
              "    }\n",
              "\n",
              "    .dataframe thead th {\n",
              "        text-align: right;\n",
              "    }\n",
              "</style>\n",
              "<table border=\"1\" class=\"dataframe\">\n",
              "  <thead>\n",
              "    <tr style=\"text-align: right;\">\n",
              "      <th></th>\n",
              "      <th>loss</th>\n",
              "      <th>accuracy</th>\n",
              "      <th>val_loss</th>\n",
              "      <th>val_accuracy</th>\n",
              "      <th>epoch</th>\n",
              "      <th>Batch Size</th>\n",
              "    </tr>\n",
              "  </thead>\n",
              "  <tbody>\n",
              "    <tr>\n",
              "      <th>0</th>\n",
              "      <td>0.788367</td>\n",
              "      <td>0.779667</td>\n",
              "      <td>0.359522</td>\n",
              "      <td>0.9004</td>\n",
              "      <td>0</td>\n",
              "      <td>32_</td>\n",
              "    </tr>\n",
              "    <tr>\n",
              "      <th>1</th>\n",
              "      <td>0.330783</td>\n",
              "      <td>0.904867</td>\n",
              "      <td>0.289769</td>\n",
              "      <td>0.9177</td>\n",
              "      <td>1</td>\n",
              "      <td>32_</td>\n",
              "    </tr>\n",
              "    <tr>\n",
              "      <th>2</th>\n",
              "      <td>0.280980</td>\n",
              "      <td>0.919517</td>\n",
              "      <td>0.258709</td>\n",
              "      <td>0.9242</td>\n",
              "      <td>2</td>\n",
              "      <td>32_</td>\n",
              "    </tr>\n",
              "    <tr>\n",
              "      <th>3</th>\n",
              "      <td>0.251815</td>\n",
              "      <td>0.927933</td>\n",
              "      <td>0.242493</td>\n",
              "      <td>0.9281</td>\n",
              "      <td>3</td>\n",
              "      <td>32_</td>\n",
              "    </tr>\n",
              "    <tr>\n",
              "      <th>4</th>\n",
              "      <td>0.229933</td>\n",
              "      <td>0.934350</td>\n",
              "      <td>0.221865</td>\n",
              "      <td>0.9361</td>\n",
              "      <td>4</td>\n",
              "      <td>32_</td>\n",
              "    </tr>\n",
              "  </tbody>\n",
              "</table>\n",
              "</div>"
            ],
            "text/plain": [
              "       loss  accuracy  val_loss  val_accuracy  epoch Batch Size\n",
              "0  0.788367  0.779667  0.359522        0.9004      0        32_\n",
              "1  0.330783  0.904867  0.289769        0.9177      1        32_\n",
              "2  0.280980  0.919517  0.258709        0.9242      2        32_\n",
              "3  0.251815  0.927933  0.242493        0.9281      3        32_\n",
              "4  0.229933  0.934350  0.221865        0.9361      4        32_"
            ]
          },
          "metadata": {
            "tags": []
          },
          "execution_count": 15
        }
      ]
    },
    {
      "cell_type": "code",
      "metadata": {
        "id": "Dlg9uSEEmIJB",
        "colab": {
          "base_uri": "https://localhost:8080/",
          "height": 283
        },
        "outputId": "f5913781-2944-4b3f-c8e3-ad15bd595538"
      },
      "source": [
        "sns.lineplot(x='epoch', y='val_accuracy', hue='Batch Size', data=df);"
      ],
      "execution_count": 16,
      "outputs": [
        {
          "output_type": "display_data",
          "data": {
            "image/png": "[encoded data removed]",
            "text/plain": [
              "<Figure size 432x288 with 1 Axes>"
            ]
          },
          "metadata": {
            "tags": [],
            "needs_background": "light"
          }
        }
      ]
    },
    {
      "cell_type": "code",
      "metadata": {
        "id": "94bJYgz3nkp0",
        "colab": {
          "base_uri": "https://localhost:8080/",
          "height": 279
        },
        "outputId": "8c214962-52ba-4cd9-b714-9e6b4758acb4"
      },
      "source": [
        "sns.lineplot(x='epoch', y='val_loss', hue='Batch Size', data=df);"
      ],
      "execution_count": 17,
      "outputs": [
        {
          "output_type": "display_data",
          "data": {
            "image/png": "[encoded data removed]",
            "text/plain": [
              "<Figure size 432x288 with 1 Axes>"
            ]
          },
          "metadata": {
            "tags": [],
            "needs_background": "light"
          }
        }
      ]
    },
    {
      "cell_type": "markdown",
      "metadata": {
        "id": "4kZ2vUYYgclS"
      },
      "source": [
        "## Challenge\n",
        "\n",
        "You will be expected to experiment with batch size on today's assignment."
      ]
    },
    {
      "cell_type": "markdown",
      "metadata": {
        "id": "46cP9Pm_gclS"
      },
      "source": [
        "# Learning Rate (Learn)"
      ]
    },
    {
      "cell_type": "markdown",
      "metadata": {
        "toc-hr-collapsed": true,
        "id": "Bna67ADZgclT"
      },
      "source": [
        "## Overview\n",
        "\n",
        "Learning Rate controls the size of the update to our weights that the optimization algorithm makes. VERY IMPORTANT hyperparameter.\n",
        "\n",
        "* Too high of a learning rate causes unstable results\n",
        "* Too Low of a learning rate the model will underfit\n",
        "* Goldy Locks parameters - it needs be \"just right\"\n",
        "* Scale of 0-1"
      ]
    },
    {
      "cell_type": "markdown",
      "metadata": {
        "toc-hr-collapsed": true,
        "id": "gsVYOn7bgcle"
      },
      "source": [
        "## Follow Along\n",
        "\n",
        "Same experiment with Batch but different learning rates:\n",
        "* High Learning = .75\n",
        "* Default Learning = .01\n",
        "* Low Learning Rate = .0001"
      ]
    },
    {
      "cell_type": "markdown",
      "metadata": {
        "id": "CI_H8Em1NOii"
      },
      "source": [
        "### Default Learning Rate"
      ]
    },
    {
      "cell_type": "code",
      "metadata": {
        "id": "Se8cb_ZUNVtL"
      },
      "source": [
        "lr_default = create_model().fit(X_train, y_train,\n",
        "                                epochs=25,\n",
        "                                validation_data=(X_test,y_test)\n",
        ")"
      ],
      "execution_count": null,
      "outputs": []
    },
    {
      "cell_type": "markdown",
      "metadata": {
        "id": "IQZ4SZdKNMRO"
      },
      "source": [
        "### High Learning Rate"
      ]
    },
    {
      "cell_type": "code",
      "metadata": {
        "id": "Ny72mU_dNWMR"
      },
      "source": [
        "lr_high = create_model(lr=.75).fit(X_train, y_train,\n",
        "                                epochs=25,\n",
        "                                validation_data=(X_test,y_test)\n",
        ")"
      ],
      "execution_count": null,
      "outputs": []
    },
    {
      "cell_type": "markdown",
      "metadata": {
        "id": "kAqDmTVBNSMR"
      },
      "source": [
        "### Low Learning Rate"
      ]
    },
    {
      "cell_type": "code",
      "metadata": {
        "id": "Ech1ER64NXBn",
        "colab": {
          "base_uri": "https://localhost:8080/"
        },
        "outputId": "8e359ae7-baf4-4c5d-ea53-4172741e7569"
      },
      "source": [
        "lr_low = create_model(lr=.0001).fit(X_train, y_train,\n",
        "                                epochs=50,\n",
        "                                validation_data=(X_test,y_test)\n",
        ")"
      ],
      "execution_count": 20,
      "outputs": [
        {
          "output_type": "stream",
          "text": [
            "Epoch 1/50\n",
            "1875/1875 [==============================] - 4s 2ms/step - loss: 2.2973 - accuracy: 0.1064 - val_loss: 2.2641 - val_accuracy: 0.1358\n",
            "Epoch 2/50\n",
            "1875/1875 [==============================] - 3s 2ms/step - loss: 2.2457 - accuracy: 0.1651 - val_loss: 2.2144 - val_accuracy: 0.1974\n",
            "Epoch 3/50\n",
            "1875/1875 [==============================] - 3s 2ms/step - loss: 2.1992 - accuracy: 0.2293 - val_loss: 2.1667 - val_accuracy: 0.2697\n",
            "Epoch 4/50\n",
            "1875/1875 [==============================] - 3s 2ms/step - loss: 2.1523 - accuracy: 0.2918 - val_loss: 2.1174 - val_accuracy: 0.3319\n",
            "Epoch 5/50\n",
            "1875/1875 [==============================] - 3s 2ms/step - loss: 2.1024 - accuracy: 0.3468 - val_loss: 2.0646 - val_accuracy: 0.3812\n",
            "Epoch 6/50\n",
            "1875/1875 [==============================] - 3s 2ms/step - loss: 2.0485 - accuracy: 0.3858 - val_loss: 2.0078 - val_accuracy: 0.4139\n",
            "Epoch 7/50\n",
            "1875/1875 [==============================] - 3s 2ms/step - loss: 1.9910 - accuracy: 0.4177 - val_loss: 1.9481 - val_accuracy: 0.4416\n",
            "Epoch 8/50\n",
            "1875/1875 [==============================] - 3s 2ms/step - loss: 1.9308 - accuracy: 0.4457 - val_loss: 1.8858 - val_accuracy: 0.4673\n",
            "Epoch 9/50\n",
            "1875/1875 [==============================] - 3s 2ms/step - loss: 1.8682 - accuracy: 0.4742 - val_loss: 1.8214 - val_accuracy: 0.4951\n",
            "Epoch 10/50\n",
            "1875/1875 [==============================] - 3s 2ms/step - loss: 1.8034 - accuracy: 0.5017 - val_loss: 1.7547 - val_accuracy: 0.5216\n",
            "Epoch 11/50\n",
            "1875/1875 [==============================] - 4s 2ms/step - loss: 1.7364 - accuracy: 0.5287 - val_loss: 1.6859 - val_accuracy: 0.5490\n",
            "Epoch 12/50\n",
            "1875/1875 [==============================] - 3s 2ms/step - loss: 1.6676 - accuracy: 0.5608 - val_loss: 1.6156 - val_accuracy: 0.5801\n",
            "Epoch 13/50\n",
            "1875/1875 [==============================] - 4s 2ms/step - loss: 1.5974 - accuracy: 0.5912 - val_loss: 1.5443 - val_accuracy: 0.6122\n",
            "Epoch 14/50\n",
            "1875/1875 [==============================] - 4s 2ms/step - loss: 1.5266 - accuracy: 0.6249 - val_loss: 1.4729 - val_accuracy: 0.6439\n",
            "Epoch 15/50\n",
            "1875/1875 [==============================] - 4s 2ms/step - loss: 1.4562 - accuracy: 0.6550 - val_loss: 1.4026 - val_accuracy: 0.6721\n",
            "Epoch 16/50\n",
            "1875/1875 [==============================] - 4s 2ms/step - loss: 1.3870 - accuracy: 0.6798 - val_loss: 1.3341 - val_accuracy: 0.6963\n",
            "Epoch 17/50\n",
            "1875/1875 [==============================] - 3s 2ms/step - loss: 1.3200 - accuracy: 0.6995 - val_loss: 1.2682 - val_accuracy: 0.7147\n",
            "Epoch 18/50\n",
            "1875/1875 [==============================] - 3s 2ms/step - loss: 1.2558 - accuracy: 0.7174 - val_loss: 1.2056 - val_accuracy: 0.7274\n",
            "Epoch 19/50\n",
            "1875/1875 [==============================] - 3s 2ms/step - loss: 1.1950 - accuracy: 0.7303 - val_loss: 1.1468 - val_accuracy: 0.7395\n",
            "Epoch 20/50\n",
            "1875/1875 [==============================] - 3s 2ms/step - loss: 1.1380 - accuracy: 0.7427 - val_loss: 1.0920 - val_accuracy: 0.7497\n",
            "Epoch 21/50\n",
            "1875/1875 [==============================] - 3s 2ms/step - loss: 1.0848 - accuracy: 0.7545 - val_loss: 1.0412 - val_accuracy: 0.7609\n",
            "Epoch 22/50\n",
            "1875/1875 [==============================] - 3s 2ms/step - loss: 1.0356 - accuracy: 0.7646 - val_loss: 0.9944 - val_accuracy: 0.7716\n",
            "Epoch 23/50\n",
            "1875/1875 [==============================] - 3s 2ms/step - loss: 0.9902 - accuracy: 0.7728 - val_loss: 0.9513 - val_accuracy: 0.7820\n",
            "Epoch 24/50\n",
            "1875/1875 [==============================] - 3s 2ms/step - loss: 0.9485 - accuracy: 0.7810 - val_loss: 0.9118 - val_accuracy: 0.7902\n",
            "Epoch 25/50\n",
            "1875/1875 [==============================] - 3s 2ms/step - loss: 0.9103 - accuracy: 0.7884 - val_loss: 0.8756 - val_accuracy: 0.7973\n",
            "Epoch 26/50\n",
            "1875/1875 [==============================] - 3s 2ms/step - loss: 0.8753 - accuracy: 0.7958 - val_loss: 0.8426 - val_accuracy: 0.8041\n",
            "Epoch 27/50\n",
            "1875/1875 [==============================] - 3s 2ms/step - loss: 0.8433 - accuracy: 0.8012 - val_loss: 0.8122 - val_accuracy: 0.8100\n",
            "Epoch 28/50\n",
            "1875/1875 [==============================] - 3s 2ms/step - loss: 0.8139 - accuracy: 0.8073 - val_loss: 0.7846 - val_accuracy: 0.8139\n",
            "Epoch 29/50\n",
            "1875/1875 [==============================] - 3s 2ms/step - loss: 0.7870 - accuracy: 0.8125 - val_loss: 0.7591 - val_accuracy: 0.8196\n",
            "Epoch 30/50\n",
            "1875/1875 [==============================] - 4s 2ms/step - loss: 0.7624 - accuracy: 0.8168 - val_loss: 0.7356 - val_accuracy: 0.8240\n",
            "Epoch 31/50\n",
            "1875/1875 [==============================] - 4s 2ms/step - loss: 0.7397 - accuracy: 0.8201 - val_loss: 0.7141 - val_accuracy: 0.8281\n",
            "Epoch 32/50\n",
            "1875/1875 [==============================] - 3s 2ms/step - loss: 0.7188 - accuracy: 0.8242 - val_loss: 0.6943 - val_accuracy: 0.8320\n",
            "Epoch 33/50\n",
            "1875/1875 [==============================] - 3s 2ms/step - loss: 0.6996 - accuracy: 0.8276 - val_loss: 0.6760 - val_accuracy: 0.8357\n",
            "Epoch 34/50\n",
            "1875/1875 [==============================] - 3s 2ms/step - loss: 0.6819 - accuracy: 0.8310 - val_loss: 0.6590 - val_accuracy: 0.8383\n",
            "Epoch 35/50\n",
            "1875/1875 [==============================] - 3s 2ms/step - loss: 0.6654 - accuracy: 0.8333 - val_loss: 0.6432 - val_accuracy: 0.8412\n",
            "Epoch 36/50\n",
            "1875/1875 [==============================] - 3s 2ms/step - loss: 0.6501 - accuracy: 0.8360 - val_loss: 0.6287 - val_accuracy: 0.8426\n",
            "Epoch 37/50\n",
            "1875/1875 [==============================] - 3s 2ms/step - loss: 0.6359 - accuracy: 0.8384 - val_loss: 0.6151 - val_accuracy: 0.8455\n",
            "Epoch 38/50\n",
            "1875/1875 [==============================] - 4s 2ms/step - loss: 0.6226 - accuracy: 0.8411 - val_loss: 0.6022 - val_accuracy: 0.8478\n",
            "Epoch 39/50\n",
            "1875/1875 [==============================] - 3s 2ms/step - loss: 0.6103 - accuracy: 0.8436 - val_loss: 0.5904 - val_accuracy: 0.8498\n",
            "Epoch 40/50\n",
            "1875/1875 [==============================] - 3s 2ms/step - loss: 0.5987 - accuracy: 0.8459 - val_loss: 0.5792 - val_accuracy: 0.8520\n",
            "Epoch 41/50\n",
            "1875/1875 [==============================] - 3s 2ms/step - loss: 0.5878 - accuracy: 0.8477 - val_loss: 0.5687 - val_accuracy: 0.8544\n",
            "Epoch 42/50\n",
            "1875/1875 [==============================] - 3s 2ms/step - loss: 0.5776 - accuracy: 0.8500 - val_loss: 0.5588 - val_accuracy: 0.8556\n",
            "Epoch 43/50\n",
            "1875/1875 [==============================] - 3s 2ms/step - loss: 0.5679 - accuracy: 0.8518 - val_loss: 0.5495 - val_accuracy: 0.8582\n",
            "Epoch 44/50\n",
            "1875/1875 [==============================] - 3s 2ms/step - loss: 0.5588 - accuracy: 0.8536 - val_loss: 0.5407 - val_accuracy: 0.8589\n",
            "Epoch 45/50\n",
            "1875/1875 [==============================] - 3s 2ms/step - loss: 0.5502 - accuracy: 0.8551 - val_loss: 0.5325 - val_accuracy: 0.8612\n",
            "Epoch 46/50\n",
            "1875/1875 [==============================] - 3s 2ms/step - loss: 0.5421 - accuracy: 0.8566 - val_loss: 0.5246 - val_accuracy: 0.8623\n",
            "Epoch 47/50\n",
            "1875/1875 [==============================] - 3s 2ms/step - loss: 0.5344 - accuracy: 0.8582 - val_loss: 0.5171 - val_accuracy: 0.8639\n",
            "Epoch 48/50\n",
            "1875/1875 [==============================] - 3s 2ms/step - loss: 0.5270 - accuracy: 0.8596 - val_loss: 0.5099 - val_accuracy: 0.8648\n",
            "Epoch 49/50\n",
            "1875/1875 [==============================] - 3s 2ms/step - loss: 0.5201 - accuracy: 0.8609 - val_loss: 0.5032 - val_accuracy: 0.8656\n",
            "Epoch 50/50\n",
            "1875/1875 [==============================] - 3s 2ms/step - loss: 0.5135 - accuracy: 0.8626 - val_loss: 0.4968 - val_accuracy: 0.8668\n"
          ],
          "name": "stdout"
        }
      ]
    },
    {
      "cell_type": "markdown",
      "metadata": {
        "id": "sZe6DyhANXdU"
      },
      "source": [
        "### Visualization of Results"
      ]
    },
    {
      "cell_type": "code",
      "metadata": {
        "id": "Bn-BdFdMNph-",
        "colab": {
          "base_uri": "https://localhost:8080/",
          "height": 195
        },
        "outputId": "0600ccfa-7a78-4aaa-c1a5-7087c21c31e4"
      },
      "source": [
        "import seaborn as sns\n",
        "import pandas as pd\n",
        "\n",
        "batch_sizes = []\n",
        "\n",
        "for exp, result in zip([lr_default, lr_low, lr_high], [\".01_\", \".0001_\", \".75_\"]):\n",
        "\n",
        "  df = pd.DataFrame.from_dict(exp.history)\n",
        "  df['epoch'] = df.index.values\n",
        "  df['Learning Rate'] = result\n",
        "\n",
        "  batch_sizes.append(df)\n",
        "\n",
        "df = pd.concat(batch_sizes)\n",
        "df['Learning Rate'] = df['Learning Rate'].astype('str')\n",
        "df.head()"
      ],
      "execution_count": 21,
      "outputs": [
        {
          "output_type": "execute_result",
          "data": {
            "text/html": [
              "<div>\n",
              "<style scoped>\n",
              "    .dataframe tbody tr th:only-of-type {\n",
              "        vertical-align: middle;\n",
              "    }\n",
              "\n",
              "    .dataframe tbody tr th {\n",
              "        vertical-align: top;\n",
              "    }\n",
              "\n",
              "    .dataframe thead th {\n",
              "        text-align: right;\n",
              "    }\n",
              "</style>\n",
              "<table border=\"1\" class=\"dataframe\">\n",
              "  <thead>\n",
              "    <tr style=\"text-align: right;\">\n",
              "      <th></th>\n",
              "      <th>loss</th>\n",
              "      <th>accuracy</th>\n",
              "      <th>val_loss</th>\n",
              "      <th>val_accuracy</th>\n",
              "      <th>epoch</th>\n",
              "      <th>Learning Rate</th>\n",
              "    </tr>\n",
              "  </thead>\n",
              "  <tbody>\n",
              "    <tr>\n",
              "      <th>0</th>\n",
              "      <td>0.817860</td>\n",
              "      <td>0.761867</td>\n",
              "      <td>0.371558</td>\n",
              "      <td>0.8918</td>\n",
              "      <td>0</td>\n",
              "      <td>.01_</td>\n",
              "    </tr>\n",
              "    <tr>\n",
              "      <th>1</th>\n",
              "      <td>0.342458</td>\n",
              "      <td>0.900650</td>\n",
              "      <td>0.291751</td>\n",
              "      <td>0.9143</td>\n",
              "      <td>1</td>\n",
              "      <td>.01_</td>\n",
              "    </tr>\n",
              "    <tr>\n",
              "      <th>2</th>\n",
              "      <td>0.287532</td>\n",
              "      <td>0.916400</td>\n",
              "      <td>0.257996</td>\n",
              "      <td>0.9246</td>\n",
              "      <td>2</td>\n",
              "      <td>.01_</td>\n",
              "    </tr>\n",
              "    <tr>\n",
              "      <th>3</th>\n",
              "      <td>0.254204</td>\n",
              "      <td>0.926533</td>\n",
              "      <td>0.232132</td>\n",
              "      <td>0.9326</td>\n",
              "      <td>3</td>\n",
              "      <td>.01_</td>\n",
              "    </tr>\n",
              "    <tr>\n",
              "      <th>4</th>\n",
              "      <td>0.229400</td>\n",
              "      <td>0.934117</td>\n",
              "      <td>0.214289</td>\n",
              "      <td>0.9390</td>\n",
              "      <td>4</td>\n",
              "      <td>.01_</td>\n",
              "    </tr>\n",
              "  </tbody>\n",
              "</table>\n",
              "</div>"
            ],
            "text/plain": [
              "       loss  accuracy  val_loss  val_accuracy  epoch Learning Rate\n",
              "0  0.817860  0.761867  0.371558        0.8918      0          .01_\n",
              "1  0.342458  0.900650  0.291751        0.9143      1          .01_\n",
              "2  0.287532  0.916400  0.257996        0.9246      2          .01_\n",
              "3  0.254204  0.926533  0.232132        0.9326      3          .01_\n",
              "4  0.229400  0.934117  0.214289        0.9390      4          .01_"
            ]
          },
          "metadata": {
            "tags": []
          },
          "execution_count": 21
        }
      ]
    },
    {
      "cell_type": "code",
      "metadata": {
        "id": "QgDX7htLpTlQ",
        "colab": {
          "base_uri": "https://localhost:8080/",
          "height": 279
        },
        "outputId": "48537fa8-39a3-4853-ec92-5d8f684df907"
      },
      "source": [
        "sns.lineplot(x='epoch', y='val_loss', hue='Learning Rate', data=df);"
      ],
      "execution_count": 22,
      "outputs": [
        {
          "output_type": "display_data",
          "data": {
            "image/png": "[encoded data removed]",
            "text/plain": [
              "<Figure size 432x288 with 1 Axes>"
            ]
          },
          "metadata": {
            "tags": [],
            "needs_background": "light"
          }
        }
      ]
    },
    {
      "cell_type": "code",
      "metadata": {
        "id": "D8GPXqf_qGs9",
        "colab": {
          "base_uri": "https://localhost:8080/",
          "height": 281
        },
        "outputId": "4a105d15-cd8c-4fb2-a3c9-16ecd7e4084c"
      },
      "source": [
        "sns.lineplot(x='epoch', y='val_accuracy', hue='Learning Rate', data=df);"
      ],
      "execution_count": 23,
      "outputs": [
        {
          "output_type": "display_data",
          "data": {
            "image/png": "[encoded data removed]",
            "text/plain": [
              "<Figure size 432x288 with 1 Axes>"
            ]
          },
          "metadata": {
            "tags": [],
            "needs_background": "light"
          }
        }
      ]
    },
    {
      "cell_type": "markdown",
      "metadata": {
        "id": "Kb2aiw_Sgcl7"
      },
      "source": [
        "## Challenge\n",
        "\n",
        "You will be expected to experiment with different learning rates today.\n",
        "\n",
        "---"
      ]
    },
    {
      "cell_type": "code",
      "metadata": {
        "id": "GszSNVwUrmXy"
      },
      "source": [
        "# Bonus\n",
        "# How do I know if my 'net is overfit?\n",
        "# Compare train & val \n",
        "# Either use loss or a metric like accuracy"
      ],
      "execution_count": 24,
      "outputs": []
    },
    {
      "cell_type": "code",
      "metadata": {
        "id": "eP5u3_ZWr3Mn",
        "colab": {
          "base_uri": "https://localhost:8080/",
          "height": 279
        },
        "outputId": "257570fb-8c60-4662-86ab-1b97082d2e02"
      },
      "source": [
        "sns.lineplot(x='epoch', y='val_loss', data=df[df['Learning Rate']=='.01_'], label=\"test_loss\")\n",
        "sns.lineplot(x='epoch', y='loss', data=df[df['Learning Rate']=='.01_'], label=\"train_loss\");"
      ],
      "execution_count": 42,
      "outputs": [
        {
          "output_type": "display_data",
          "data": {
            "image/png": "[encoded data removed]",
            "text/plain": [
              "<Figure size 432x288 with 1 Axes>"
            ]
          },
          "metadata": {
            "tags": [],
            "needs_background": "light"
          }
        }
      ]
    },
    {
      "cell_type": "code",
      "metadata": {
        "id": "aBt1q68UsHoq",
        "colab": {
          "base_uri": "https://localhost:8080/",
          "height": 279
        },
        "outputId": "52398826-906c-43e3-af57-acd00953f7d0"
      },
      "source": [
        "sns.lineplot(x='epoch', y='val_accuracy', data=df[df['Learning Rate']=='.01_'])\n",
        "sns.lineplot(x='epoch', y='accuracy', data=df[df['Learning Rate']=='.01_']);"
      ],
      "execution_count": 26,
      "outputs": [
        {
          "output_type": "display_data",
          "data": {
            "image/png": "[encoded data removed]",
            "text/plain": [
              "<Figure size 432x288 with 1 Axes>"
            ]
          },
          "metadata": {
            "tags": [],
            "needs_background": "light"
          }
        }
      ]
    },
    {
      "cell_type": "code",
      "metadata": {
        "id": "m_2cK_tnsi8C"
      },
      "source": [
        ""
      ],
      "execution_count": 26,
      "outputs": []
    }
  ]
}